{
 "cells": [
  {
   "cell_type": "markdown",
   "metadata": {},
   "source": [
    "# 0. Import, data read, function definition"
   ]
  },
  {
   "cell_type": "code",
   "execution_count": 1,
   "metadata": {
    "scrolled": true
   },
   "outputs": [],
   "source": [
    "import os, sys\n",
    "import copy\n",
    "import numpy as np\n",
    "import matplotlib.pyplot as plt\n",
    "import pandas as pd\n",
    "from sklearn.linear_model import Ridge\n",
    "from sklearn.model_selection import train_test_split\n",
    "from sklearn.metrics import explained_variance_score, mean_squared_error"
   ]
  },
  {
   "cell_type": "code",
   "execution_count": 2,
   "metadata": {},
   "outputs": [
    {
     "name": "stdout",
     "output_type": "stream",
     "text": [
      "sample_submission.csv  test.csv  train.csv\r\n"
     ]
    }
   ],
   "source": [
    "!ls data"
   ]
  },
  {
   "cell_type": "code",
   "execution_count": 3,
   "metadata": {},
   "outputs": [
    {
     "name": "stdout",
     "output_type": "stream",
     "text": [
      "Index(['id', 'cont1', 'cont2', 'cont3', 'cont4', 'cont5', 'cont6', 'cont7',\n",
      "       'cont8', 'cont9', 'cont10', 'cont11', 'cont12', 'cont13', 'cont14',\n",
      "       'target'],\n",
      "      dtype='object')\n"
     ]
    }
   ],
   "source": [
    "test = pd.read_csv(\"data/test.csv\")\n",
    "train = pd.read_csv(\"data/train.csv\")\n",
    "\n",
    "print(train.columns)"
   ]
  },
  {
   "cell_type": "code",
   "execution_count": 9,
   "metadata": {},
   "outputs": [
    {
     "name": "stdout",
     "output_type": "stream",
     "text": [
      "(200000, 14) (300000, 14) (300000,)\n"
     ]
    }
   ],
   "source": [
    "X_test = test.iloc[:,1:]\n",
    "X_train = train.iloc[:,1:-1]\n",
    "Y_train = train.iloc[:,-1]\n",
    "\n",
    "# get id, useful for kaggle subsmission\n",
    "test_id = test.id\n",
    "train_id = train.id\n",
    "\n",
    "print(X_test.shape, X_train.shape, Y_train.shape) \n",
    "# our input space has 14 dimensions\n",
    "# with 200 000 test examples, and 300 000 train examples\n",
    "# output space has 1 dimension"
   ]
  },
  {
   "cell_type": "code",
   "execution_count": 10,
   "metadata": {},
   "outputs": [],
   "source": [
    "def kernelize(X,kernel=\"linear\"):\n",
    "    \"\"\"\n",
    "    inputs:\n",
    "        apply linear kernel to our data\n",
    "        X : pandas dataframe, containing dimensions in columns\n",
    "    returns :\n",
    "        X_new : dataframe resulting of the application of the kernel on X dataframe\n",
    "    \"\"\"\n",
    "    new_X = []\n",
    "    X_columns = X.columns\n",
    "    N_columns = len(X.columns)\n",
    "    new_columns = []\n",
    "    if kernel ==\"linear\" or kernel==\"exponential\":\n",
    "        for i in range(N_columns):\n",
    "            for j in range(N_columns):\n",
    "                if i <= j : # since our kernel is symetric, we need can compute only half of the operations\n",
    "                    col0, col1 = X_columns[i], X_columns[j]\n",
    "                    new_columns.append(\"k(\" + col0 + \",\" + col1 + \")\")\n",
    "                    if kernel == \"linear\":\n",
    "                        new_X.append(copy.deepcopy(np.multiply(X[col0], X[col1])))\n",
    "                    if kernel == \"exponential\":\n",
    "                        new_X.append(copy.deepcopy(np.exp(X[col0] + X[col1])))\n",
    "\n",
    "\n",
    "    new_X = pd.concat(new_X, axis=1)\n",
    "    new_X.columns = new_columns\n",
    "    return new_X"
   ]
  },
  {
   "cell_type": "code",
   "execution_count": 39,
   "metadata": {},
   "outputs": [],
   "source": [
    "def make_kaggle_submission(Y, id_list, file_name = \"submission.csv\"):\n",
    "    \"\"\"\n",
    "    convert Y array into the correct format for kaggle submission\n",
    "    & save into csv file \n",
    "    & returns the submission\n",
    "    \"\"\"\n",
    "    df = pd.DataFrame(Y, index=id_list, columns = [\"target\"])\n",
    "    \n",
    "    df.to_csv(\"data/\" + file_name)\n",
    "    \n",
    "    return df"
   ]
  },
  {
   "cell_type": "markdown",
   "metadata": {},
   "source": [
    "# 1. MKL"
   ]
  },
  {
   "cell_type": "markdown",
   "metadata": {},
   "source": [
    "## 1.1. Kernel method with a chosen kernel"
   ]
  },
  {
   "cell_type": "code",
   "execution_count": 11,
   "metadata": {},
   "outputs": [
    {
     "name": "stdout",
     "output_type": "stream",
     "text": [
      "(300000, 105) (200000, 105)\n"
     ]
    }
   ],
   "source": [
    "# We apply product kernel\n",
    "\n",
    "X_test_linear_kernel = kernelize(X_test)\n",
    "X_train_linear_kernel = kernelize(X_train)\n",
    "\n",
    "print(X_train_linear_kernel.shape, X_test_linear_kernel.shape) # we get a 105 dimension space"
   ]
  },
  {
   "cell_type": "markdown",
   "metadata": {},
   "source": [
    "## 1.2. Ridge regression in the feature space"
   ]
  },
  {
   "cell_type": "code",
   "execution_count": 14,
   "metadata": {},
   "outputs": [],
   "source": [
    "regressor = Ridge()"
   ]
  },
  {
   "cell_type": "code",
   "execution_count": 20,
   "metadata": {},
   "outputs": [
    {
     "data": {
      "text/plain": [
       "Ridge()"
      ]
     },
     "execution_count": 20,
     "metadata": {},
     "output_type": "execute_result"
    }
   ],
   "source": [
    "regressor.fit(X_train_linear_kernel.values, Y_train)"
   ]
  },
  {
   "cell_type": "code",
   "execution_count": 27,
   "metadata": {},
   "outputs": [],
   "source": [
    "Y_predict = regressor.predict(X_test_linear_kernel)"
   ]
  },
  {
   "cell_type": "code",
   "execution_count": 28,
   "metadata": {},
   "outputs": [
    {
     "name": "stdout",
     "output_type": "stream",
     "text": [
      "predicted variance : 0.018928769204604 \n",
      "training variance : 0.5373928423339634\n",
      "\n",
      "predicted mean : 7.905108132030335 \n",
      "training mean : 7.905661328316826\n",
      "\n",
      "predicted min : 7.085882010461101 \n",
      "training min : 0.0\n",
      "\n",
      "predicted max : 8.830757355454702 \n",
      "training max : 10.267568500800396\n"
     ]
    }
   ],
   "source": [
    "print(\"predicted variance :\", Y_predict.var(),\"\\ntraining variance :\", Y_train.var())\n",
    "print(\"\\npredicted mean :\", Y_predict.mean(),\"\\ntraining mean :\", Y_train.mean())\n",
    "print(\"\\npredicted min :\", Y_predict.min(),\"\\ntraining min :\", Y_train.min())\n",
    "print(\"\\npredicted max :\", Y_predict.max(),\"\\ntraining max :\", Y_train.max())"
   ]
  },
  {
   "cell_type": "code",
   "execution_count": 151,
   "metadata": {},
   "outputs": [],
   "source": [
    "# The classifier predict values that are in a shorter interval comparing to what we get in the training set\n",
    "# It would be interesting to search why\n",
    "# It may be a problem if test and train sets are constructed by random sampling per example"
   ]
  },
  {
   "cell_type": "code",
   "execution_count": 40,
   "metadata": {},
   "outputs": [
    {
     "data": {
      "text/html": [
       "<div>\n",
       "<style scoped>\n",
       "    .dataframe tbody tr th:only-of-type {\n",
       "        vertical-align: middle;\n",
       "    }\n",
       "\n",
       "    .dataframe tbody tr th {\n",
       "        vertical-align: top;\n",
       "    }\n",
       "\n",
       "    .dataframe thead th {\n",
       "        text-align: right;\n",
       "    }\n",
       "</style>\n",
       "<table border=\"1\" class=\"dataframe\">\n",
       "  <thead>\n",
       "    <tr style=\"text-align: right;\">\n",
       "      <th></th>\n",
       "      <th>target</th>\n",
       "    </tr>\n",
       "    <tr>\n",
       "      <th>id</th>\n",
       "      <th></th>\n",
       "    </tr>\n",
       "  </thead>\n",
       "  <tbody>\n",
       "    <tr>\n",
       "      <th>0</th>\n",
       "      <td>8.019208</td>\n",
       "    </tr>\n",
       "    <tr>\n",
       "      <th>2</th>\n",
       "      <td>7.778296</td>\n",
       "    </tr>\n",
       "    <tr>\n",
       "      <th>6</th>\n",
       "      <td>7.938228</td>\n",
       "    </tr>\n",
       "    <tr>\n",
       "      <th>7</th>\n",
       "      <td>7.940062</td>\n",
       "    </tr>\n",
       "    <tr>\n",
       "      <th>10</th>\n",
       "      <td>8.212541</td>\n",
       "    </tr>\n",
       "    <tr>\n",
       "      <th>...</th>\n",
       "      <td>...</td>\n",
       "    </tr>\n",
       "    <tr>\n",
       "      <th>499984</th>\n",
       "      <td>8.057480</td>\n",
       "    </tr>\n",
       "    <tr>\n",
       "      <th>499985</th>\n",
       "      <td>7.950218</td>\n",
       "    </tr>\n",
       "    <tr>\n",
       "      <th>499987</th>\n",
       "      <td>7.823627</td>\n",
       "    </tr>\n",
       "    <tr>\n",
       "      <th>499988</th>\n",
       "      <td>7.962770</td>\n",
       "    </tr>\n",
       "    <tr>\n",
       "      <th>499990</th>\n",
       "      <td>7.796336</td>\n",
       "    </tr>\n",
       "  </tbody>\n",
       "</table>\n",
       "<p>200000 rows × 1 columns</p>\n",
       "</div>"
      ],
      "text/plain": [
       "          target\n",
       "id              \n",
       "0       8.019208\n",
       "2       7.778296\n",
       "6       7.938228\n",
       "7       7.940062\n",
       "10      8.212541\n",
       "...          ...\n",
       "499984  8.057480\n",
       "499985  7.950218\n",
       "499987  7.823627\n",
       "499988  7.962770\n",
       "499990  7.796336\n",
       "\n",
       "[200000 rows x 1 columns]"
      ]
     },
     "execution_count": 40,
     "metadata": {},
     "output_type": "execute_result"
    }
   ],
   "source": [
    "make_kaggle_submission(Y_predict, id_list=test_id, file_name=\"submission0.csv\")\n",
    "\n",
    "# Result of this submission (RMSE = 0.72255)"
   ]
  },
  {
   "cell_type": "markdown",
   "metadata": {},
   "source": [
    "## 1.3. Multiple Kernel Learning implementation (MKL)"
   ]
  },
  {
   "cell_type": "code",
   "execution_count": 41,
   "metadata": {},
   "outputs": [],
   "source": [
    "# compute exponential kernelization\n",
    "X_test_exponential_kernel = kernelize(X_test, kernel=\"exponential\")\n",
    "X_train_exponential_kernel = kernelize(X_train, kernel=\"exponential\")"
   ]
  },
  {
   "cell_type": "code",
   "execution_count": 42,
   "metadata": {},
   "outputs": [],
   "source": [
    "# we compare the results of ridge regression with regularization on the custom kernel ( linear kernel + beta * exponential kernel)\n",
    "beta_values = [0.01,0.05,0.1,0.5,2,5]\n",
    "score_mean = []\n",
    "score_variance = []\n",
    "for beta in beta_values:\n",
    "# We split our kernelized arrays into a test and training set\n",
    "\n",
    "    X = X_train_linear_kernel + beta * X_train_exponential_kernel\n",
    "    scores = []\n",
    "    for i in range(5):\n",
    "        x_train, x_test, y_train, y_test = train_test_split(X, Y_train)\n",
    "    \n",
    "        regressor = Ridge()\n",
    "    \n",
    "        regressor.fit(x_train, y_train)\n",
    "    \n",
    "        y_predict = regressor.predict(x_test)\n",
    "        \n",
    "        scores.append(mean_squared_error(y_predict, y_test)) # compute score of prediction\n",
    "        \n",
    "    score_mean.append(np.mean(scores))\n",
    "    score_variance.append(np.var(scores)) # get mean and variance of the score for a givent beta value (multiple runs by selecting different test/train set)"
   ]
  },
  {
   "cell_type": "code",
   "execution_count": 43,
   "metadata": {},
   "outputs": [
    {
     "data": {
      "text/plain": [
       "[<matplotlib.lines.Line2D at 0x7f85a8445cd0>]"
      ]
     },
     "execution_count": 43,
     "metadata": {},
     "output_type": "execute_result"
    },
    {
     "data": {
      "image/png": "[encoded data removed]",
      "text/plain": [
       "<Figure size 432x288 with 1 Axes>"
      ]
     },
     "metadata": {
      "needs_background": "light"
     },
     "output_type": "display_data"
    }
   ],
   "source": [
    "plt.plot(score_mean)"
   ]
  },
  {
   "cell_type": "code",
   "execution_count": 44,
   "metadata": {},
   "outputs": [
    {
     "data": {
      "text/plain": [
       "[<matplotlib.lines.Line2D at 0x7f8583d92a30>]"
      ]
     },
     "execution_count": 44,
     "metadata": {},
     "output_type": "execute_result"
    },
    {
     "data": {
      "image/png": "[encoded data removed]",
      "text/plain": [
       "<Figure size 432x288 with 1 Axes>"
      ]
     },
     "metadata": {
      "needs_background": "light"
     },
     "output_type": "display_data"
    }
   ],
   "source": [
    "plt.plot(score_variance)"
   ]
  },
  {
   "cell_type": "code",
   "execution_count": 45,
   "metadata": {},
   "outputs": [
    {
     "data": {
      "text/html": [
       "<div>\n",
       "<style scoped>\n",
       "    .dataframe tbody tr th:only-of-type {\n",
       "        vertical-align: middle;\n",
       "    }\n",
       "\n",
       "    .dataframe tbody tr th {\n",
       "        vertical-align: top;\n",
       "    }\n",
       "\n",
       "    .dataframe thead th {\n",
       "        text-align: right;\n",
       "    }\n",
       "</style>\n",
       "<table border=\"1\" class=\"dataframe\">\n",
       "  <thead>\n",
       "    <tr style=\"text-align: right;\">\n",
       "      <th></th>\n",
       "      <th>target</th>\n",
       "    </tr>\n",
       "    <tr>\n",
       "      <th>id</th>\n",
       "      <th></th>\n",
       "    </tr>\n",
       "  </thead>\n",
       "  <tbody>\n",
       "    <tr>\n",
       "      <th>0</th>\n",
       "      <td>8.019017</td>\n",
       "    </tr>\n",
       "    <tr>\n",
       "      <th>2</th>\n",
       "      <td>7.776441</td>\n",
       "    </tr>\n",
       "    <tr>\n",
       "      <th>6</th>\n",
       "      <td>7.935983</td>\n",
       "    </tr>\n",
       "    <tr>\n",
       "      <th>7</th>\n",
       "      <td>7.937434</td>\n",
       "    </tr>\n",
       "    <tr>\n",
       "      <th>10</th>\n",
       "      <td>8.211425</td>\n",
       "    </tr>\n",
       "    <tr>\n",
       "      <th>...</th>\n",
       "      <td>...</td>\n",
       "    </tr>\n",
       "    <tr>\n",
       "      <th>499984</th>\n",
       "      <td>8.058539</td>\n",
       "    </tr>\n",
       "    <tr>\n",
       "      <th>499985</th>\n",
       "      <td>7.952694</td>\n",
       "    </tr>\n",
       "    <tr>\n",
       "      <th>499987</th>\n",
       "      <td>7.822385</td>\n",
       "    </tr>\n",
       "    <tr>\n",
       "      <th>499988</th>\n",
       "      <td>7.963892</td>\n",
       "    </tr>\n",
       "    <tr>\n",
       "      <th>499990</th>\n",
       "      <td>7.797161</td>\n",
       "    </tr>\n",
       "  </tbody>\n",
       "</table>\n",
       "<p>200000 rows × 1 columns</p>\n",
       "</div>"
      ],
      "text/plain": [
       "          target\n",
       "id              \n",
       "0       8.019017\n",
       "2       7.776441\n",
       "6       7.935983\n",
       "7       7.937434\n",
       "10      8.211425\n",
       "...          ...\n",
       "499984  8.058539\n",
       "499985  7.952694\n",
       "499987  7.822385\n",
       "499988  7.963892\n",
       "499990  7.797161\n",
       "\n",
       "[200000 rows x 1 columns]"
      ]
     },
     "execution_count": 45,
     "metadata": {},
     "output_type": "execute_result"
    }
   ],
   "source": [
    "# make prediction for best model : beta = 0.05 (this model has the lowest RMSE)\n",
    " \n",
    "beta=0.05\n",
    "\n",
    "X_train_custom_kernel = X_train_linear_kernel + beta * X_train_exponential_kernel\n",
    "X_test_custom_kernel = X_test_linear_kernel + beta * X_test_exponential_kernel\n",
    "\n",
    "regressor = Ridge()\n",
    "    \n",
    "regressor.fit(X_train_custom_kernel, Y_train)\n",
    "\n",
    "Y_predict = regressor.predict(X_test_custom_kernel)\n",
    "\n",
    "make_kaggle_submission(Y_predict, id_list=test_id, file_name=\"submission1.csv\") # submission score : 0.72252, not much better than simple linear kernel"
   ]
  },
  {
   "cell_type": "code",
   "execution_count": 48,
   "metadata": {},
   "outputs": [
    {
     "data": {
      "text/html": [
       "<div>\n",
       "<style scoped>\n",
       "    .dataframe tbody tr th:only-of-type {\n",
       "        vertical-align: middle;\n",
       "    }\n",
       "\n",
       "    .dataframe tbody tr th {\n",
       "        vertical-align: top;\n",
       "    }\n",
       "\n",
       "    .dataframe thead th {\n",
       "        text-align: right;\n",
       "    }\n",
       "</style>\n",
       "<table border=\"1\" class=\"dataframe\">\n",
       "  <thead>\n",
       "    <tr style=\"text-align: right;\">\n",
       "      <th></th>\n",
       "      <th>target</th>\n",
       "    </tr>\n",
       "    <tr>\n",
       "      <th>id</th>\n",
       "      <th></th>\n",
       "    </tr>\n",
       "  </thead>\n",
       "  <tbody>\n",
       "    <tr>\n",
       "      <th>0</th>\n",
       "      <td>8.018698</td>\n",
       "    </tr>\n",
       "    <tr>\n",
       "      <th>2</th>\n",
       "      <td>7.773477</td>\n",
       "    </tr>\n",
       "    <tr>\n",
       "      <th>6</th>\n",
       "      <td>7.924713</td>\n",
       "    </tr>\n",
       "    <tr>\n",
       "      <th>7</th>\n",
       "      <td>7.924599</td>\n",
       "    </tr>\n",
       "    <tr>\n",
       "      <th>10</th>\n",
       "      <td>8.204401</td>\n",
       "    </tr>\n",
       "    <tr>\n",
       "      <th>...</th>\n",
       "      <td>...</td>\n",
       "    </tr>\n",
       "    <tr>\n",
       "      <th>499984</th>\n",
       "      <td>8.064910</td>\n",
       "    </tr>\n",
       "    <tr>\n",
       "      <th>499985</th>\n",
       "      <td>7.969698</td>\n",
       "    </tr>\n",
       "    <tr>\n",
       "      <th>499987</th>\n",
       "      <td>7.817245</td>\n",
       "    </tr>\n",
       "    <tr>\n",
       "      <th>499988</th>\n",
       "      <td>7.971612</td>\n",
       "    </tr>\n",
       "    <tr>\n",
       "      <th>499990</th>\n",
       "      <td>7.797832</td>\n",
       "    </tr>\n",
       "  </tbody>\n",
       "</table>\n",
       "<p>200000 rows × 1 columns</p>\n",
       "</div>"
      ],
      "text/plain": [
       "          target\n",
       "id              \n",
       "0       8.018698\n",
       "2       7.773477\n",
       "6       7.924713\n",
       "7       7.924599\n",
       "10      8.204401\n",
       "...          ...\n",
       "499984  8.064910\n",
       "499985  7.969698\n",
       "499987  7.817245\n",
       "499988  7.971612\n",
       "499990  7.797832\n",
       "\n",
       "[200000 rows x 1 columns]"
      ]
     },
     "execution_count": 48,
     "metadata": {},
     "output_type": "execute_result"
    }
   ],
   "source": [
    "# make prediction for best model : beta = 0.05 (this model has the lowest variance, which means it should generalize well)\n",
    " \n",
    "beta=2\n",
    "\n",
    "X_train_custom_kernel = X_train_linear_kernel + beta * X_train_exponential_kernel\n",
    "X_test_custom_kernel = X_test_linear_kernel + beta * X_test_exponential_kernel\n",
    "\n",
    "regressor = Ridge()\n",
    "    \n",
    "regressor.fit(X_train_custom_kernel, Y_train)\n",
    "\n",
    "Y_predict = regressor.predict(X_test_custom_kernel)\n",
    "\n",
    "make_kaggle_submission(Y_predict, id_list=test_id, file_name=\"submission2.csv\") # submission score :0.72243, not much better than simple linear kernel"
   ]
  },
  {
   "cell_type": "code",
   "execution_count": null,
   "metadata": {},
   "outputs": [],
   "source": []
  }
 ],
 "metadata": {
  "kernelspec": {
   "display_name": "Python 3",
   "language": "python",
   "name": "python3"
  },
  "language_info": {
   "codemirror_mode": {
    "name": "ipython",
    "version": 3
   },
   "file_extension": ".py",
   "mimetype": "text/x-python",
   "name": "python",
   "nbconvert_exporter": "python",
   "pygments_lexer": "ipython3",
   "version": "3.8.5"
  }
 },
 "nbformat": 4,
 "nbformat_minor": 4
}
