{
 "cells": [
  {
   "cell_type": "markdown",
   "metadata": {},
   "source": [
    "# 0. Import, data read, function definition"
   ]
  },
  {
   "cell_type": "code",
   "execution_count": 130,
   "metadata": {
    "scrolled": true
   },
   "outputs": [],
   "source": [
    "import os, sys\n",
    "import copy\n",
    "import numpy as np\n",
    "import pandas as pd\n",
    "from sklearn.linear_model import Ridge"
   ]
  },
  {
   "cell_type": "code",
   "execution_count": 4,
   "metadata": {},
   "outputs": [
    {
     "name": "stdout",
     "output_type": "stream",
     "text": [
      "sample_submission.csv  test.csv  train.csv\r\n"
     ]
    }
   ],
   "source": [
    "!ls data"
   ]
  },
  {
   "cell_type": "code",
   "execution_count": 5,
   "metadata": {},
   "outputs": [
    {
     "name": "stdout",
     "output_type": "stream",
     "text": [
      "Index(['id', 'cont1', 'cont2', 'cont3', 'cont4', 'cont5', 'cont6', 'cont7',\n",
      "       'cont8', 'cont9', 'cont10', 'cont11', 'cont12', 'cont13', 'cont14',\n",
      "       'target'],\n",
      "      dtype='object')\n"
     ]
    }
   ],
   "source": [
    "test = pd.read_csv(\"data/test.csv\")\n",
    "train = pd.read_csv(\"data/train.csv\")\n",
    "\n",
    "print(train.columns)"
   ]
  },
  {
   "cell_type": "code",
   "execution_count": 10,
   "metadata": {},
   "outputs": [
    {
     "name": "stdout",
     "output_type": "stream",
     "text": [
      "(200000, 14) (300000, 14) (300000,)\n"
     ]
    }
   ],
   "source": [
    "X_test = test.iloc[:,1:]\n",
    "X_train = train.iloc[:,1:-1]\n",
    "Y_train = train.iloc[:,-1]\n",
    "\n",
    "print(X_test.shape, X_train.shape, Y_train.shape) \n",
    "# our input space has 14 dimensions\n",
    "# with 200 000 test examples, and 300 000 train examples\n",
    "# output space has 1 dimension"
   ]
  },
  {
   "cell_type": "code",
   "execution_count": 156,
   "metadata": {},
   "outputs": [],
   "source": [
    "def kernelize(X,kernel=\"linear\"):\n",
    "    \"\"\"\n",
    "    inputs:\n",
    "        apply linear kernel to our data\n",
    "        X : pandas dataframe, containing dimensions in columns\n",
    "    returns :\n",
    "        X_new : dataframe resulting of the application of the kernel on X dataframe\n",
    "    \"\"\"\n",
    "    new_X = []\n",
    "    X_columns = X.columns\n",
    "    N_columns = len(X.columns)\n",
    "    new_columns = []\n",
    "    if kernel ==\"linear\":\n",
    "        for i in range(N_columns):\n",
    "            for j in range(N_columns):\n",
    "                if i <= j : # since our kernel is symetric, we need can compute only half of the operations\n",
    "                    col0, col1 = X_columns[i], X_columns[j]\n",
    "                    new_columns.append(\"k(\" + col0 + \",\" + col1 + \")\")\n",
    "                    new_X.append(copy.deepcopy(np.multiply(X[col0], X[col1])))\n",
    "    new_X = pd.concat(new_X, axis=1)\n",
    "    new_X.columns = new_columns\n",
    "    return new_X"
   ]
  },
  {
   "cell_type": "markdown",
   "metadata": {},
   "source": [
    "# 1. MKL"
   ]
  },
  {
   "cell_type": "markdown",
   "metadata": {},
   "source": [
    "## 1.1. Kernel method with a chosen kernel"
   ]
  },
  {
   "cell_type": "code",
   "execution_count": 157,
   "metadata": {},
   "outputs": [
    {
     "name": "stdout",
     "output_type": "stream",
     "text": [
      "(300000, 105) (200000, 105)\n"
     ]
    }
   ],
   "source": [
    "# We apply product_kernel\n",
    "\n",
    "X_test_kernel = kernelize(X_test)\n",
    "X_train_kernel = kernelize(X_train)\n",
    "\n",
    "print(X_train_kernel.shape, X_test_kernel.shape) # we get a 104 dimension space"
   ]
  },
  {
   "cell_type": "markdown",
   "metadata": {},
   "source": [
    "## 1.2. Ridge regression in the feature space"
   ]
  },
  {
   "cell_type": "code",
   "execution_count": 158,
   "metadata": {},
   "outputs": [],
   "source": [
    "regressor = Ridge()"
   ]
  },
  {
   "cell_type": "code",
   "execution_count": 159,
   "metadata": {},
   "outputs": [
    {
     "data": {
      "text/plain": [
       "Ridge()"
      ]
     },
     "execution_count": 159,
     "metadata": {},
     "output_type": "execute_result"
    }
   ],
   "source": [
    "regressor.fit(X_train, Y_train)"
   ]
  },
  {
   "cell_type": "code",
   "execution_count": 160,
   "metadata": {},
   "outputs": [],
   "source": [
    "Y_predict = regressor.predict(X_test)"
   ]
  },
  {
   "cell_type": "code",
   "execution_count": 161,
   "metadata": {},
   "outputs": [
    {
     "name": "stdout",
     "output_type": "stream",
     "text": [
      "predicted variance : 0.009986963389501852 \n",
      "training variance : 0.5373928423339634\n",
      "\n",
      "predicted mean : 7.905556778801167 \n",
      "training mean : 7.905661328316826\n",
      "\n",
      "predicted min : 7.369461306345791 \n",
      "training min : 0.0\n",
      "\n",
      "predicted max : 8.558680598787495 \n",
      "training max : 10.267568500800396\n"
     ]
    }
   ],
   "source": [
    "print(\"predicted variance :\", Y_predict.var(),\"\\ntraining variance :\", Y_train.var())\n",
    "print(\"\\npredicted mean :\", Y_predict.mean(),\"\\ntraining mean :\", Y_train.mean())\n",
    "print(\"\\npredicted min :\", Y_predict.min(),\"\\ntraining min :\", Y_train.min())\n",
    "print(\"\\npredicted max :\", Y_predict.max(),\"\\ntraining max :\", Y_train.max())"
   ]
  },
  {
   "cell_type": "code",
   "execution_count": 151,
   "metadata": {},
   "outputs": [],
   "source": [
    "# The classifier predict values that are in a shorter interval comparing to what we get in the training set\n",
    "# It would be interesting to search why\n",
    "# It may be a problem if test and train sets are constructed by random sampling per example"
   ]
  },
  {
   "cell_type": "code",
   "execution_count": null,
   "metadata": {},
   "outputs": [],
   "source": []
  }
 ],
 "metadata": {
  "kernelspec": {
   "display_name": "Python 3",
   "language": "python",
   "name": "python3"
  },
  "language_info": {
   "codemirror_mode": {
    "name": "ipython",
    "version": 3
   },
   "file_extension": ".py",
   "mimetype": "text/x-python",
   "name": "python",
   "nbconvert_exporter": "python",
   "pygments_lexer": "ipython3",
   "version": "3.8.5"
  }
 },
 "nbformat": 4,
 "nbformat_minor": 4
}
